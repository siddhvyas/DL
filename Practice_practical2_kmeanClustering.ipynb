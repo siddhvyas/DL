{
 "cells": [
  {
   "cell_type": "code",
   "execution_count": 2,
   "id": "6bada2af",
   "metadata": {},
   "outputs": [],
   "source": [
    "import numpy as np\n",
    "import matplotlib.pyplot as plt\n",
    "from sklearn import *\n",
    "from sklearn.cluster import * "
   ]
  },
  {
   "cell_type": "code",
   "execution_count": 18,
   "id": "3f3c51fb",
   "metadata": {},
   "outputs": [
    {
     "name": "stdout",
     "output_type": "stream",
     "text": [
      "16\n",
      "16\n"
     ]
    }
   ],
   "source": [
    "x1 = np.array([1,2,4,2,3,4,7,6,3,9,13,3,3,7,16,12])\n",
    "print(len(x1))\n",
    "\n",
    "x2 = np.array([4,7,3,24,2,3,3,5,2,13,3,3,4,7,13,12])\n",
    "print(len(x2))"
   ]
  },
  {
   "cell_type": "code",
   "execution_count": 19,
   "id": "6989572a",
   "metadata": {},
   "outputs": [
    {
     "data": {
      "image/png": "[encoded data removed]",
      "text/plain": [
       "<Figure size 432x288 with 1 Axes>"
      ]
     },
     "metadata": {
      "needs_background": "light"
     },
     "output_type": "display_data"
    },
    {
     "name": "stdout",
     "output_type": "stream",
     "text": [
      "~~~~~~~~~~~~~\n"
     ]
    }
   ],
   "source": [
    "plt.xlim(0,30)\n",
    "plt.ylim(0,30)\n",
    "plt.title(\"kmeans\")\n",
    "plt.scatter(x1,x2,color=\"red\")\n",
    "plt.show()\n",
    "print(\"~~~~~~~~~~~~~\")"
   ]
  },
  {
   "cell_type": "code",
   "execution_count": 39,
   "id": "ddf827de",
   "metadata": {},
   "outputs": [
    {
     "name": "stdout",
     "output_type": "stream",
     "text": [
      "[[ 1  4]\n",
      " [ 2  7]\n",
      " [ 4  3]\n",
      " [ 2 24]\n",
      " [ 3  2]\n",
      " [ 4  3]\n",
      " [ 7  3]\n",
      " [ 6  5]\n",
      " [ 3  2]\n",
      " [ 9 13]\n",
      " [13  3]\n",
      " [ 3  3]\n",
      " [ 3  4]\n",
      " [ 7  7]\n",
      " [16 13]\n",
      " [12 12]]\n"
     ]
    }
   ],
   "source": [
    "x = np.array(list(zip(x1,x2))).reshape(len(x1),2)\n",
    "print(x)\n",
    "k=3"
   ]
  },
  {
   "cell_type": "code",
   "execution_count": 40,
   "id": "9a531ab2",
   "metadata": {},
   "outputs": [],
   "source": [
    "KmeanModel = KMeans(n_clusters=k).fit(x)\n",
    "color=['r','g','b']\n",
    "markers=['o','v','s']"
   ]
  },
  {
   "cell_type": "code",
   "execution_count": 45,
   "id": "1f2a2746",
   "metadata": {},
   "outputs": [
    {
     "name": "stdout",
     "output_type": "stream",
     "text": [
      "0 0\n",
      "1 0\n",
      "2 0\n",
      "3 2\n",
      "4 0\n",
      "5 0\n",
      "6 0\n",
      "7 0\n",
      "8 0\n",
      "9 1\n",
      "10 1\n",
      "11 0\n",
      "12 0\n",
      "13 0\n",
      "14 1\n",
      "15 1\n"
     ]
    },
    {
     "data": {
      "image/png": "[encoded data removed]",
      "text/plain": [
       "<Figure size 432x288 with 1 Axes>"
      ]
     },
     "metadata": {
      "needs_background": "light"
     },
     "output_type": "display_data"
    }
   ],
   "source": [
    "for i,l in enumerate(KmeanModel.labels_):\n",
    "    print(i,l)\n",
    "    plt.scatter(x1[i],x2[i],color=color[l],marker=markers[l])\n",
    "    plt.xlim(0,30)\n",
    "    plt.ylim(0,30)"
   ]
  },
  {
   "cell_type": "code",
   "execution_count": null,
   "id": "f3e3954b",
   "metadata": {},
   "outputs": [],
   "source": []
  }
 ],
 "metadata": {
  "kernelspec": {
   "display_name": "Python 3",
   "language": "python",
   "name": "python3"
  },
  "language_info": {
   "codemirror_mode": {
    "name": "ipython",
    "version": 3
   },
   "file_extension": ".py",
   "mimetype": "text/x-python",
   "name": "python",
   "nbconvert_exporter": "python",
   "pygments_lexer": "ipython3",
   "version": "3.8.8"
  }
 },
 "nbformat": 4,
 "nbformat_minor": 5
}
