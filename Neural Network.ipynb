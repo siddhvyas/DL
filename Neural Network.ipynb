{
 "cells": [
  {
   "cell_type": "code",
   "execution_count": 1,
   "id": "0f1d3b18",
   "metadata": {},
   "outputs": [],
   "source": [
    "import numpy as np"
   ]
  },
  {
   "cell_type": "code",
   "execution_count": 2,
   "id": "a6fee283",
   "metadata": {},
   "outputs": [],
   "source": [
    "def sigmoid(x):\n",
    "    return 1/(1+np.exp(-x))\n"
   ]
  },
  {
   "cell_type": "code",
   "execution_count": 14,
   "id": "0adeb1b7",
   "metadata": {},
   "outputs": [],
   "source": [
    "def sigmoid_derivative(x):\n",
    "    return x*(1-x)"
   ]
  },
  {
   "cell_type": "code",
   "execution_count": 25,
   "id": "c5106f8b",
   "metadata": {},
   "outputs": [],
   "source": [
    "tranning_ip = np.array([[0,0,0],[0,0,1],[0,1,0],[0,1,1],[1,0,0],[1,0,1],[1,1,0],[1,1,1]])"
   ]
  },
  {
   "cell_type": "raw",
   "id": "271181ba",
   "metadata": {},
   "source": []
  },
  {
   "cell_type": "code",
   "execution_count": 22,
   "id": "95fb152e",
   "metadata": {},
   "outputs": [],
   "source": [
    "tranning_op = np.array([[0,0,0,0,1,1,1,1]]).T\n",
    "np.random.seed(1)"
   ]
  },
  {
   "cell_type": "code",
   "execution_count": 23,
   "id": "4f40faaf",
   "metadata": {},
   "outputs": [],
   "source": [
    "synaptic_weights = 2*np.random.random((3,1))-1"
   ]
  },
  {
   "cell_type": "code",
   "execution_count": 24,
   "id": "74279a2b",
   "metadata": {},
   "outputs": [
    {
     "name": "stdout",
     "output_type": "stream",
     "text": [
      "random starting synaptic weights:\n"
     ]
    }
   ],
   "source": [
    "print(\"random starting synaptic weights:\")"
   ]
  },
  {
   "cell_type": "code",
   "execution_count": 19,
   "id": "90f6ba5a",
   "metadata": {},
   "outputs": [
    {
     "name": "stdout",
     "output_type": "stream",
     "text": [
      "[[-0.16595599]\n",
      " [ 0.44064899]\n",
      " [-0.99977125]]\n"
     ]
    }
   ],
   "source": [
    "print(synaptic_weights)"
   ]
  },
  {
   "cell_type": "code",
   "execution_count": 26,
   "id": "7896ac78",
   "metadata": {},
   "outputs": [],
   "source": [
    "for iteraion in range(20000):\n",
    "    input_layer=tranning_ip\n",
    "    output_layer=tranning_op\n",
    "    outputs=sigmoid(np.dot(input_layer,synaptic_weights))\n",
    "    error = output_layer - outputs\n",
    "    adjustments=error*sigmoid_derivative(outputs)\n",
    "    synaptic_weights +=np.dot(input_layer.T,adjustments)"
   ]
  },
  {
   "cell_type": "code",
   "execution_count": 27,
   "id": "337531ef",
   "metadata": {},
   "outputs": [
    {
     "name": "stdout",
     "output_type": "stream",
     "text": [
      "synaptic weights after tranning\n",
      "[[13.87534322]\n",
      " [-4.57643978]\n",
      " [-4.57643978]]\n",
      "output after tranning:\n",
      "[[5.00000000e-01]\n",
      " [1.01868947e-02]\n",
      " [1.01868947e-02]\n",
      " [1.05908603e-04]\n",
      " [9.99999058e-01]\n",
      " [9.99908479e-01]\n",
      " [9.99908479e-01]\n",
      " [9.91184927e-01]]\n"
     ]
    }
   ],
   "source": [
    "print(\"synaptic weights after tranning\")\n",
    "print(synaptic_weights)\n",
    "print(\"output after tranning:\")\n",
    "print(outputs)"
   ]
  },
  {
   "cell_type": "code",
   "execution_count": null,
   "id": "31713fd9",
   "metadata": {},
   "outputs": [],
   "source": []
  }
 ],
 "metadata": {
  "kernelspec": {
   "display_name": "Python 3",
   "language": "python",
   "name": "python3"
  },
  "language_info": {
   "codemirror_mode": {
    "name": "ipython",
    "version": 3
   },
   "file_extension": ".py",
   "mimetype": "text/x-python",
   "name": "python",
   "nbconvert_exporter": "python",
   "pygments_lexer": "ipython3",
   "version": "3.8.8"
  }
 },
 "nbformat": 4,
 "nbformat_minor": 5
}
