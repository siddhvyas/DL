{
 "cells": [
  {
   "cell_type": "code",
   "execution_count": 1,
   "id": "9411a2a0",
   "metadata": {},
   "outputs": [],
   "source": [
    "import pandas as pd\n",
    "import numpy as np\n",
    "from sklearn import *\n",
    "from sklearn.tree import *\n",
    "from sklearn.model_selection import *\n",
    "from sklearn.tree import export_graphviz"
   ]
  },
  {
   "cell_type": "code",
   "execution_count": 2,
   "id": "0eeab11a",
   "metadata": {},
   "outputs": [],
   "source": [
    "from IPython.display import Image"
   ]
  },
  {
   "cell_type": "code",
   "execution_count": 3,
   "id": "55c9498d",
   "metadata": {},
   "outputs": [],
   "source": [
    "from six import StringIO "
   ]
  },
  {
   "cell_type": "code",
   "execution_count": 4,
   "id": "a5c80127",
   "metadata": {},
   "outputs": [],
   "source": [
    "import pydotplus"
   ]
  },
  {
   "cell_type": "code",
   "execution_count": 5,
   "id": "6e541808",
   "metadata": {},
   "outputs": [],
   "source": [
    "import matplotlib.pyplot as plt"
   ]
  },
  {
   "cell_type": "code",
   "execution_count": 6,
   "id": "bf43865e",
   "metadata": {},
   "outputs": [],
   "source": [
    "df=pd.read_csv(\"D:\\TYBSC SEM6\\P4 Deep Learning applications\\Practice session\\Practical5\\d.csv\")"
   ]
  },
  {
   "cell_type": "code",
   "execution_count": 7,
   "id": "06714695",
   "metadata": {},
   "outputs": [],
   "source": [
    "import matplotlib.image as mpimg"
   ]
  },
  {
   "cell_type": "code",
   "execution_count": null,
   "id": "7a4349aa",
   "metadata": {},
   "outputs": [],
   "source": []
  },
  {
   "cell_type": "code",
   "execution_count": 8,
   "id": "018baa70",
   "metadata": {},
   "outputs": [
    {
     "name": "stdout",
     "output_type": "stream",
     "text": [
      "   Soreth  fever  swollen  cong  head diagnosis\n",
      "0       1      1        1     1     1     strep\n",
      "1       0      0        0     1     1     aller\n",
      "2       1      1        0     1     0      cold\n",
      "3       1      0        1     0     0     strep\n",
      "4       0      1        0     1     0      cold\n",
      "5       0      0        0     1     0     aller\n",
      "6       0      0        1     0     0     strep\n",
      "7       1      0        0     1     1     aller\n",
      "8       0      1        0     1     1      cold\n",
      "9       1      1        0     1     1      cold\n"
     ]
    }
   ],
   "source": [
    "print(df)"
   ]
  },
  {
   "cell_type": "code",
   "execution_count": 9,
   "id": "19ebedca",
   "metadata": {},
   "outputs": [
    {
     "name": "stdout",
     "output_type": "stream",
     "text": [
      "['fever', 'swollen', 'cong', 'head']\n"
     ]
    }
   ],
   "source": [
    "features=list(df.columns[1:5])\n",
    "print(features)"
   ]
  },
  {
   "cell_type": "code",
   "execution_count": 10,
   "id": "9e0ca758",
   "metadata": {},
   "outputs": [],
   "source": [
    "target=df.columns[5]"
   ]
  },
  {
   "cell_type": "code",
   "execution_count": 11,
   "id": "429636a3",
   "metadata": {},
   "outputs": [],
   "source": [
    "y=df[target]"
   ]
  },
  {
   "cell_type": "code",
   "execution_count": 12,
   "id": "0528a590",
   "metadata": {
    "scrolled": true
   },
   "outputs": [],
   "source": [
    "x=df[features]"
   ]
  },
  {
   "cell_type": "code",
   "execution_count": 13,
   "id": "9d105b40",
   "metadata": {},
   "outputs": [
    {
     "name": "stdout",
     "output_type": "stream",
     "text": [
      "   fever  swollen  cong  head\n",
      "0      1        1     1     1\n",
      "1      0        0     1     1\n",
      "2      1        0     1     0\n",
      "3      0        1     0     0\n",
      "4      1        0     1     0\n",
      "5      0        0     1     0\n",
      "6      0        1     0     0\n",
      "7      0        0     1     1\n",
      "8      1        0     1     1\n",
      "9      1        0     1     1\n",
      "0    strep\n",
      "1    aller\n",
      "2     cold\n",
      "3    strep\n",
      "4     cold\n",
      "5    aller\n",
      "6    strep\n",
      "7    aller\n",
      "8     cold\n",
      "9     cold\n",
      "Name: diagnosis, dtype: object\n"
     ]
    }
   ],
   "source": [
    "print(x)\n",
    "print(y)"
   ]
  },
  {
   "cell_type": "code",
   "execution_count": 14,
   "id": "28749fa9",
   "metadata": {},
   "outputs": [],
   "source": [
    "clf = DecisionTreeClassifier(criterion=\"entropy\",max_depth=4,max_features=3)"
   ]
  },
  {
   "cell_type": "code",
   "execution_count": 15,
   "id": "7f665b8f",
   "metadata": {},
   "outputs": [],
   "source": [
    "clf=clf.fit(x,y)"
   ]
  },
  {
   "cell_type": "code",
   "execution_count": 16,
   "id": "390a92d7",
   "metadata": {},
   "outputs": [],
   "source": [
    "dot_data=StringIO()"
   ]
  },
  {
   "cell_type": "code",
   "execution_count": 17,
   "id": "f2472ef1",
   "metadata": {},
   "outputs": [],
   "source": [
    "export_graphviz(clf, out_file=dot_data,  \n",
    "                filled=True, rounded=True,\n",
    "                special_characters=True,feature_names = features,class_names=['strep','cold','aller'])"
   ]
  },
  {
   "cell_type": "code",
   "execution_count": 18,
   "id": "ae95c4d7",
   "metadata": {},
   "outputs": [
    {
     "data": {
      "image/png": "[encoded data removed]",
      "text/plain": [
       "<Figure size 432x288 with 1 Axes>"
      ]
     },
     "metadata": {
      "needs_background": "light"
     },
     "output_type": "display_data"
    }
   ],
   "source": [
    "graph = pydotplus.graph_from_dot_data(dot_data.getvalue())\n",
    "graph.write_png('output.png')\n",
    "img = mpimg.imread('output.png')\n",
    "plt.imshow(img)\n",
    "plt.show()"
   ]
  },
  {
   "cell_type": "code",
   "execution_count": 19,
   "id": "357128e3",
   "metadata": {},
   "outputs": [],
   "source": [
    "graph= pydotplus.graph_from_dot_data(dot_data.getvalue())"
   ]
  },
  {
   "cell_type": "code",
   "execution_count": null,
   "id": "2e9a395f",
   "metadata": {},
   "outputs": [],
   "source": []
  },
  {
   "cell_type": "code",
   "execution_count": null,
   "id": "80bbf7ab",
   "metadata": {},
   "outputs": [],
   "source": []
  },
  {
   "cell_type": "code",
   "execution_count": null,
   "id": "896fbf1a",
   "metadata": {},
   "outputs": [],
   "source": []
  },
  {
   "cell_type": "code",
   "execution_count": null,
   "id": "b76bfba2",
   "metadata": {},
   "outputs": [],
   "source": []
  },
  {
   "cell_type": "code",
   "execution_count": null,
   "id": "44d705cb",
   "metadata": {},
   "outputs": [],
   "source": []
  },
  {
   "cell_type": "code",
   "execution_count": null,
   "id": "4ec17c14",
   "metadata": {},
   "outputs": [],
   "source": []
  },
  {
   "cell_type": "code",
   "execution_count": null,
   "id": "1d19e5e2",
   "metadata": {},
   "outputs": [],
   "source": []
  },
  {
   "cell_type": "code",
   "execution_count": null,
   "id": "c245ec30",
   "metadata": {},
   "outputs": [],
   "source": []
  },
  {
   "cell_type": "code",
   "execution_count": null,
   "id": "97ff43ce",
   "metadata": {},
   "outputs": [],
   "source": []
  }
 ],
 "metadata": {
  "kernelspec": {
   "display_name": "Python 3",
   "language": "python",
   "name": "python3"
  },
  "language_info": {
   "codemirror_mode": {
    "name": "ipython",
    "version": 3
   },
   "file_extension": ".py",
   "mimetype": "text/x-python",
   "name": "python",
   "nbconvert_exporter": "python",
   "pygments_lexer": "ipython3",
   "version": "3.8.8"
  }
 },
 "nbformat": 4,
 "nbformat_minor": 5
}
