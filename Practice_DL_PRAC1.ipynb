{
 "cells": [
  {
   "cell_type": "code",
   "execution_count": 2,
   "id": "40e74164",
   "metadata": {},
   "outputs": [],
   "source": [
    "import pandas as pd\n",
    "import matplotlib.pyplot as plt"
   ]
  },
  {
   "cell_type": "code",
   "execution_count": 3,
   "id": "34e5d091",
   "metadata": {},
   "outputs": [],
   "source": [
    "df = pd.read_csv(\"D:\\TYBSC SEM6\\P4 Deep Learning applications\\Practice session\\Practical1\\EmpData1.csv\")"
   ]
  },
  {
   "cell_type": "code",
   "execution_count": 5,
   "id": "1a83c980",
   "metadata": {},
   "outputs": [
    {
     "name": "stdout",
     "output_type": "stream",
     "text": [
      "         name      salary     salesA    salesB     salesC\n",
      "0       sohel  1000000000  741852963  85274196  794613874\n",
      "1     arshiya   999999999     741852  78451296   85296374\n",
      "2     katrina      585226     789654     48596     659646\n",
      "3    jacqline     7418527       7529      5666     484946\n",
      "4  allu arjun     7896541       7892    852266     848444\n"
     ]
    }
   ],
   "source": [
    "print(df)\n"
   ]
  },
  {
   "cell_type": "code",
   "execution_count": 27,
   "id": "400996c4",
   "metadata": {},
   "outputs": [],
   "source": [
    "m_A= df['salesA'].mean()"
   ]
  },
  {
   "cell_type": "code",
   "execution_count": 28,
   "id": "60619699",
   "metadata": {},
   "outputs": [],
   "source": [
    "md_A=df['salesA'].median()"
   ]
  },
  {
   "cell_type": "code",
   "execution_count": 29,
   "id": "ed3de3dd",
   "metadata": {},
   "outputs": [],
   "source": [
    "minSal=df['salary'].min()"
   ]
  },
  {
   "cell_type": "code",
   "execution_count": 30,
   "id": "cdd73fda",
   "metadata": {},
   "outputs": [
    {
     "name": "stdout",
     "output_type": "stream",
     "text": [
      "148679978.0 741852.0 585226 1000000000\n"
     ]
    }
   ],
   "source": [
    "maxSal=df['salary'].max()\n",
    "print(m_A,md_A,minSal,maxSal)"
   ]
  },
  {
   "cell_type": "code",
   "execution_count": 33,
   "id": "1b23039c",
   "metadata": {},
   "outputs": [
    {
     "name": "stdout",
     "output_type": "stream",
     "text": [
      "['sohel' 'arshiya' 'katrina' 'jacqline' 'allu arjun'] [1000000000  999999999     585226    7418527    7896541]\n"
     ]
    }
   ],
   "source": [
    "x=df['name'].values\n",
    "y=df['salary'].values\n",
    "print(x,y)"
   ]
  },
  {
   "cell_type": "code",
   "execution_count": 44,
   "id": "d5334939",
   "metadata": {},
   "outputs": [
    {
     "data": {
      "image/png": "[encoded data removed]",
      "text/plain": [
       "<Figure size 432x288 with 1 Axes>"
      ]
     },
     "metadata": {
      "needs_background": "light"
     },
     "output_type": "display_data"
    }
   ],
   "source": [
    "plt.scatter(x,y,color=\"red\")\n",
    "plt.plot(x,y,color=\"yellow\")\n",
    "plt.title('salary graph')\n",
    "plt.xlabel('name')\n",
    "plt.ylabel('salary')\n",
    "plt.show()"
   ]
  },
  {
   "cell_type": "code",
   "execution_count": null,
   "id": "50bb2161",
   "metadata": {},
   "outputs": [],
   "source": []
  },
  {
   "cell_type": "code",
   "execution_count": null,
   "id": "bfa43eca",
   "metadata": {},
   "outputs": [],
   "source": []
  }
 ],
 "metadata": {
  "kernelspec": {
   "display_name": "Python 3",
   "language": "python",
   "name": "python3"
  },
  "language_info": {
   "codemirror_mode": {
    "name": "ipython",
    "version": 3
   },
   "file_extension": ".py",
   "mimetype": "text/x-python",
   "name": "python",
   "nbconvert_exporter": "python",
   "pygments_lexer": "ipython3",
   "version": "3.8.8"
  }
 },
 "nbformat": 4,
 "nbformat_minor": 5
}
