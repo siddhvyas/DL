{
 "cells": [
  {
   "cell_type": "code",
   "execution_count": 33,
   "id": "634b348b",
   "metadata": {},
   "outputs": [],
   "source": [
    "import numpy as np\n",
    "import matplotlib.pyplot as plt"
   ]
  },
  {
   "cell_type": "code",
   "execution_count": 34,
   "id": "66b423a2",
   "metadata": {},
   "outputs": [
    {
     "name": "stdout",
     "output_type": "stream",
     "text": [
      "12 12\n"
     ]
    }
   ],
   "source": [
    "x=np.array([1,4,5,6,5,6,7,8,9,10,11,12])\n",
    "y=np.array([10,20,30,40,50,60,70,80,90,100,110,120])\n",
    "\n",
    "print(len(x),len(y))"
   ]
  },
  {
   "cell_type": "code",
   "execution_count": 35,
   "id": "4345fe99",
   "metadata": {},
   "outputs": [],
   "source": [
    "n=np.size('x')\n",
    "xmean= np.mean(x)\n",
    "ymean = np.mean(y)"
   ]
  },
  {
   "cell_type": "code",
   "execution_count": 36,
   "id": "05acfb8e",
   "metadata": {},
   "outputs": [],
   "source": [
    "ss_xx = np.sum(x*x-n*xmean*ymean)\n",
    "ss_xy = np.sum(x*y-n*xmean*ymean)"
   ]
  },
  {
   "cell_type": "code",
   "execution_count": 37,
   "id": "0226b513",
   "metadata": {},
   "outputs": [],
   "source": [
    "m=ss_xy/ss_xx"
   ]
  },
  {
   "cell_type": "code",
   "execution_count": 38,
   "id": "ddea5bf3",
   "metadata": {},
   "outputs": [],
   "source": [
    "c=ymean - m*xmean"
   ]
  },
  {
   "cell_type": "code",
   "execution_count": 40,
   "id": "c0ebbfe7",
   "metadata": {},
   "outputs": [
    {
     "data": {
      "text/plain": [
       "[<matplotlib.lines.Line2D at 0x19cee67c580>]"
      ]
     },
     "execution_count": 40,
     "metadata": {},
     "output_type": "execute_result"
    },
    {
     "data": {
      "image/png": "[encoded data removed]",
      "text/plain": [
       "<Figure size 432x288 with 1 Axes>"
      ]
     },
     "metadata": {
      "needs_background": "light"
     },
     "output_type": "display_data"
    }
   ],
   "source": [
    "plt.scatter(x,y,color=\"red\")\n",
    "yline=m*x + c\n",
    "plt.plot(x,yline,color=\"black\")"
   ]
  },
  {
   "cell_type": "code",
   "execution_count": null,
   "id": "ae388f74",
   "metadata": {},
   "outputs": [],
   "source": []
  },
  {
   "cell_type": "code",
   "execution_count": null,
   "id": "d042ee41",
   "metadata": {},
   "outputs": [],
   "source": []
  }
 ],
 "metadata": {
  "kernelspec": {
   "display_name": "Python 3",
   "language": "python",
   "name": "python3"
  },
  "language_info": {
   "codemirror_mode": {
    "name": "ipython",
    "version": 3
   },
   "file_extension": ".py",
   "mimetype": "text/x-python",
   "name": "python",
   "nbconvert_exporter": "python",
   "pygments_lexer": "ipython3",
   "version": "3.8.8"
  }
 },
 "nbformat": 4,
 "nbformat_minor": 5
}
